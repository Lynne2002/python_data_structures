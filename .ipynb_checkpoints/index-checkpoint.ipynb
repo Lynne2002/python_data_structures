{
 "cells": [
  {
   "cell_type": "markdown",
   "id": "aa18ee52",
   "metadata": {},
   "source": [
    "# 1. String"
   ]
  },
  {
   "cell_type": "markdown",
   "id": "c2a67d26",
   "metadata": {},
   "source": [
    "String is a list of characters\n",
    "\n",
    "It is iterable but not mutable => Immutable"
   ]
  },
  {
   "cell_type": "code",
   "execution_count": 1,
   "id": "48404030",
   "metadata": {},
   "outputs": [
    {
     "name": "stdout",
     "output_type": "stream",
     "text": [
      "What is the charcater in the 2 location : e \n"
     ]
    }
   ],
   "source": [
    "#Iterable\n",
    "name = \"SheChem\"\n",
    "print(\"What is the charcater in the {} location : {} \".format(2,name[2]))"
   ]
  },
  {
   "cell_type": "code",
   "execution_count": 100,
   "id": "dc60d85e",
   "metadata": {},
   "outputs": [],
   "source": [
    "#Immutable -> You cannot change the value once assigned\n",
    "#Intentional error\n",
    "name = \"SheChem\"\n",
    "#name[1] = \"V\"\n",
    "#print(\"What is the character in the {} location: {}\".format(1, name[1]))"
   ]
  },
  {
   "cell_type": "markdown",
   "id": "a48caf3a",
   "metadata": {},
   "source": [
    "#### String functions"
   ]
  },
  {
   "cell_type": "code",
   "execution_count": 7,
   "id": "0a5c2397",
   "metadata": {},
   "outputs": [
    {
     "name": "stdout",
     "output_type": "stream",
     "text": [
      "Count of character e is 2 \n"
     ]
    }
   ],
   "source": [
    "#Count function -> Counts the characters in the same case\n",
    "name = \"ShECheem\"\n",
    "print(\"Count of character {} is {} \".format(\"e\", name.count(\"e\")))"
   ]
  },
  {
   "cell_type": "code",
   "execution_count": 11,
   "id": "1f765cfc",
   "metadata": {},
   "outputs": [
    {
     "name": "stdout",
     "output_type": "stream",
     "text": [
      "Lower case\n",
      "Alphabet or number or both\n",
      "Alphabet\n"
     ]
    }
   ],
   "source": [
    "#Checking the case and the character type\n",
    "name =\"shecheem\"\n",
    "if(name.islower()):\n",
    "    print(\"Lower case\")\n",
    "if(name.isupper()):\n",
    "    print(\"Upper Case\")\n",
    "if(name.isdigit()):\n",
    "    print(\"Digit\")\n",
    "if(name.isalnum()):\n",
    "    print(\"Alphabet or number or both\")\n",
    "if(name.isalpha()):\n",
    "    print(\"Alphabet\")"
   ]
  },
  {
   "cell_type": "code",
   "execution_count": 12,
   "id": "e6f1280d",
   "metadata": {},
   "outputs": [
    {
     "name": "stdout",
     "output_type": "stream",
     "text": [
      "Name to upper case: SHECHEEM\n",
      "Name to lower case: shecheem \n",
      "Name to swap case: SHEcHeEM\n",
      "Name to capitalize case: Shecheem\n"
     ]
    }
   ],
   "source": [
    "#Changing the case of the string\n",
    "name =\"sheChEem\"\n",
    "print(\"Name to upper case: {}\".format(name.upper()))\n",
    "print(\"Name to lower case: {} \".format(name.lower()))\n",
    "print(\"Name to swap case: {}\".format(name.swapcase()))\n",
    "print(\"Name to capitalize case: {}\".format(name.capitalize()))"
   ]
  },
  {
   "cell_type": "code",
   "execution_count": 23,
   "id": "48559c46",
   "metadata": {},
   "outputs": [
    {
     "name": "stdout",
     "output_type": "stream",
     "text": [
      "The first three characters: Rus\n",
      "Three characters starting from 11 to 14:  avi\n",
      "Characters starting from 1 to 14 with a skip of 2:  usli ai\n",
      "Characters from 10 to 14 in reverse:  niva\n",
      "Reverse the sentence: yad riah dab a gnivah si lessuR \n"
     ]
    }
   ],
   "source": [
    "#Substring(Extracting a part of a string)\n",
    "sentence = \"Russel is having a bad hair day\"\n",
    "print(\"The first three characters: {}\".format(sentence[0:3]))\n",
    "print(\"Three characters starting from 11 to 14: \", sentence[11:14])\n",
    "print(\"Characters starting from 1 to 14 with a skip of 2: \", sentence[1:14:2])\n",
    "print(\"Characters from 10 to 14 in reverse: \", sentence[14:10:-1])\n",
    "print(\"Reverse the sentence: {} \".format(sentence[::-1]))"
   ]
  },
  {
   "cell_type": "code",
   "execution_count": 28,
   "id": "b7451c2e",
   "metadata": {},
   "outputs": [
    {
     "name": "stdout",
     "output_type": "stream",
     "text": [
      "['Russel', 'is', 'having', 'a', 'bad', 'hair', 'day']\n",
      "Number of words: 7\n"
     ]
    }
   ],
   "source": [
    "#Split function\n",
    "#To find the number of words in a sentence\n",
    "#Not the best\n",
    "\n",
    "sentence = \"Russel is having a bad hair day\"\n",
    "print(sentence.split(' '))\n",
    "print(\"Number of words: {}\".format(len(sentence.split(' '))))\n"
   ]
  },
  {
   "cell_type": "code",
   "execution_count": 60,
   "id": "99e8c919",
   "metadata": {},
   "outputs": [
    {
     "name": "stdout",
     "output_type": "stream",
     "text": [
      "Original sentence: \n",
      "    Russel   is   having a   bad   hair day\n",
      "Length of the sentence: 43\n",
      "Number of words in original sentence:  19\n",
      "\n",
      "New sentence: \n",
      "Russel is having a bad hair day\n",
      "New length of sentence: 31 \n",
      "Number of words in new sentence:  7\n"
     ]
    }
   ],
   "source": [
    "#Find the number of words -> correct way\n",
    "sentence = \"    Russel   is   having a   bad   hair day\"\n",
    "print(\"Original sentence: \", sentence, \"Length of the sentence: {}\".format(len(sentence)), sep =\"\\n\")\n",
    "print(\"Number of words in original sentence: \", len(sentence.split(' ')))\n",
    "\n",
    "\n",
    "Sentence = sentence.strip() #Strip function removes extra spaces from the front and back of the sentence\n",
    "#print(\"Stripped sentence: \", Sentence, \"Length of the sentence: {}\".format(len(Sentence)), sep = \"\\n\")\n",
    "\n",
    "list_of_words = Sentence.split(' ')\n",
    "new_sentence = ''\n",
    "#print(\"   List of words after splitting: \", list_of_words)\n",
    "\n",
    "for i in list_of_words:\n",
    "    if (i.isalnum()):\n",
    "        new_sentence += i + ' '\n",
    "#print(\"New sentence: \",new_sentence, sep= \"\\n\")\n",
    "\n",
    "list_of_words = new_sentence.split(' ')\n",
    "#print(\"List of words in new sentence: \",list_of_words )\n",
    "\n",
    "#Now we remove the space on the right using rstrip\n",
    "new_sentence = new_sentence.rstrip(' ')\n",
    "\n",
    "list_of_words = new_sentence.split(' ')\n",
    "#print(\"List of words in new sentence after rsplit: \",list_of_words )\n",
    "\n",
    "print(\"\\nNew sentence: \", new_sentence,\"New length of sentence: {} \".format(len(new_sentence)), sep=\"\\n\")\n",
    "print(\"Number of words in new sentence: \", len(new_sentence.split(' ')))      \n"
   ]
  },
  {
   "cell_type": "code",
   "execution_count": 72,
   "id": "bb763242",
   "metadata": {},
   "outputs": [
    {
     "name": "stdout",
     "output_type": "stream",
     "text": [
      "Enter a sentence:     Russel   is   having a   bad   hair day\n",
      "Number of words:  7\n"
     ]
    }
   ],
   "source": [
    "# Using a function to solve the above problem\n",
    "\n",
    "def preprocess(sentence):\n",
    "    sentence = sentence.strip()\n",
    "    \n",
    "    list_of_words = sentence.split(' ')\n",
    "    new_sentence = ''\n",
    "    \n",
    "    for i in list_of_words:\n",
    "        if(i.isalnum()):\n",
    "            new_sentence +=i+ ' '\n",
    "    \n",
    "    new_sentence = new_sentence.rstrip()\n",
    "    return new_sentence\n",
    "\n",
    "def word_count(sentence):\n",
    "    print(\"Number of words: \", len(sentence.split(' ')))\n",
    "    \n",
    "Sentence = input(\"Enter a sentence: \")\n",
    "processed_sentence = preprocess(Sentence)\n",
    "word_count(processed_sentence)\n",
    "    \n",
    "    \n",
    "    "
   ]
  },
  {
   "cell_type": "code",
   "execution_count": 77,
   "id": "76a65591",
   "metadata": {},
   "outputs": [
    {
     "name": "stdout",
     "output_type": "stream",
     "text": [
      "Enter a sentence: 1 person went to Paris and bought 10 pizzas and 12 croissants \n",
      "Number of numbers:  3\n"
     ]
    }
   ],
   "source": [
    "#Counting the number of numbers in a sentence\n",
    "\n",
    "# Using a function to solve the above problem\n",
    "\n",
    "def preprocess(sentence):\n",
    "    sentence = sentence.strip()\n",
    "    \n",
    "    list_of_words = sentence.split(' ')\n",
    "    new_sentence = ''\n",
    "    \n",
    "    for i in list_of_words:\n",
    "        if(i.isdigit()):\n",
    "            new_sentence +=i+ ' '\n",
    "    \n",
    "    new_sentence = new_sentence.rstrip()\n",
    "    return new_sentence\n",
    "\n",
    "def word_count(sentence):\n",
    "    print(\"Number of numbers: \", len(sentence.split(' ')))\n",
    "    \n",
    "Sentence = input(\"Enter a sentence: \")\n",
    "processed_sentence = preprocess(Sentence)\n",
    "word_count(processed_sentence)"
   ]
  },
  {
   "cell_type": "markdown",
   "id": "0224b220",
   "metadata": {},
   "source": [
    "# 2. List\n",
    "Can have heterogenous values - float, int\n",
    "\n",
    "It is iterable and mutable"
   ]
  },
  {
   "cell_type": "code",
   "execution_count": 88,
   "id": "13b55316",
   "metadata": {},
   "outputs": [
    {
     "name": "stdout",
     "output_type": "stream",
     "text": [
      "Numbers in the list:  [1, 2, 3, 4, 5, 6, 7]\n",
      "Number in index 6: 7\n",
      "Index of number 7: 6\n"
     ]
    }
   ],
   "source": [
    "list_of_numbers = [1, 2, 3, 4, 5, 6, 7]\n",
    "print(\"Numbers in the list: \", list_of_numbers)\n",
    "print(\"Number in index {}: {}\".format(6, list_of_numbers[6]))\n",
    "print(\"Index of number {}: {}\".format(7, list_of_numbers.index(7)))"
   ]
  },
  {
   "cell_type": "code",
   "execution_count": 90,
   "id": "bb525f43",
   "metadata": {},
   "outputs": [
    {
     "name": "stdout",
     "output_type": "stream",
     "text": [
      "[1, 'Home', 2, 'Homes', 3.0]\n"
     ]
    }
   ],
   "source": [
    "multi_characters = [1, \"Home\", 2, \"Homes\", 3.0]\n",
    "print(multi_characters)"
   ]
  },
  {
   "cell_type": "code",
   "execution_count": 92,
   "id": "86859ff9",
   "metadata": {},
   "outputs": [
    {
     "name": "stdout",
     "output_type": "stream",
     "text": [
      "[1, 2, 3, 4, 5, 6, 7, 8]\n"
     ]
    }
   ],
   "source": [
    "# To add a number to a list\n",
    "list_of_values = [1, 2, 3, 4, 5, 6, 7]\n",
    "\n",
    "# Wrong way\n",
    "#list_of_values[7]= 8\n",
    "\n",
    "#Right way\n",
    "list_of_values.append(8)\n",
    "print(list_of_values)"
   ]
  },
  {
   "cell_type": "code",
   "execution_count": 98,
   "id": "fd0bf1f0",
   "metadata": {},
   "outputs": [
    {
     "name": "stdout",
     "output_type": "stream",
     "text": [
      "[1, 2, 3, 4, 5, 6, 7, 8, 9]\n"
     ]
    }
   ],
   "source": [
    "# To add two numbers to a list\n",
    "list_of_values = [1, 2, 3, 4, 5, 6, 7]\n",
    "\n",
    "# Wrong way\n",
    "#list_of_values.append([8,9])\n",
    "#print(list_of_values)\n",
    "\n",
    "# Right way\n",
    "list_of_values.extend([8, 9])\n",
    "print(list_of_values)"
   ]
  },
  {
   "cell_type": "raw",
   "id": "874e3d07",
   "metadata": {},
   "source": [
    "Nested lists:\n",
    "                 ________ ________ ________\n",
    "                |  1 , 2 |  3 , 4 |  5 , 6 |\n",
    "                 ____ ___ ____ ___ ____ ___\n",
    " Sub-Indexes :     0   1    0   1    0   1\n",
    "                 ________ ________ ________\n",
    " Indexed     :       0        1        2"
   ]
  },
  {
   "cell_type": "code",
   "execution_count": 103,
   "id": "74b73d54",
   "metadata": {},
   "outputs": [
    {
     "name": "stdout",
     "output_type": "stream",
     "text": [
      "Elements in index 2: [5, 6]\n",
      "Element in index 1 of index 2: 6\n"
     ]
    }
   ],
   "source": [
    "nested_list = [[1, 2], [3, 4], [5, 6]]\n",
    "print(\"Elements in index {}: {}\".format(2, nested_list[2]))\n",
    "print(\"Element in index 1 of index 2:\", nested_list[2][1] )"
   ]
  },
  {
   "cell_type": "code",
   "execution_count": 112,
   "id": "1b368792",
   "metadata": {},
   "outputs": [
    {
     "name": "stdout",
     "output_type": "stream",
     "text": [
      "1\t2\t3\t4\t5\t6\t"
     ]
    }
   ],
   "source": [
    "#Printing all the values in a nested list\n",
    "nested_list = [[1, 2], [3, 4], [5, 6]]\n",
    "for i in range(len(nested_list)):\n",
    "    for j in range(len(nested_list[i])):\n",
    "        print(nested_list[i][j], end = \"\\t\")\n"
   ]
  },
  {
   "cell_type": "code",
   "execution_count": 117,
   "id": "5a094bd4",
   "metadata": {},
   "outputs": [
    {
     "name": "stdout",
     "output_type": "stream",
     "text": [
      "1\t3\t5\t"
     ]
    }
   ],
   "source": [
    "#Print the values in the 0th index for all values in the list\n",
    "nested_list = [[1, 2], [3, 4], [5, 6]]\n",
    "for i in range(len(nested_list)):\n",
    "    print(nested_list[i][0], end= \"\\t\")"
   ]
  },
  {
   "cell_type": "code",
   "execution_count": 120,
   "id": "74e429ed",
   "metadata": {},
   "outputs": [
    {
     "name": "stdout",
     "output_type": "stream",
     "text": [
      "[1, 3, 5, 9, 45, 45, 67, 245, 23344]\n"
     ]
    }
   ],
   "source": [
    "# Sorting the list\n",
    "# The difficult way\n",
    "list_of_values = [245, 1, 45, 67, 9, 5, 3, 23344, 45]\n",
    "\n",
    "for i in range(len(list_of_values)-1): #len-1 => 9 (len-1)-1 => 8 so that it does not throw an error in [j+1]\n",
    "    for j in range(len(list_of_values)-1):\n",
    "        if(list_of_values[j]>list_of_values[j+1]): \n",
    "            temp = list_of_values[j]  #temp = 8 list_of_values[j+1] = 7\n",
    "            list_of_values[j] = list_of_values[j+1] #list_of_values[j] = list_of_values[j+1] = 7\n",
    "            list_of_values[j+1]= temp # j+1 = temp \n",
    "print(list_of_values)\n",
    "    \n"
   ]
  },
  {
   "cell_type": "code",
   "execution_count": 126,
   "id": "37f68ea4",
   "metadata": {},
   "outputs": [
    {
     "name": "stdout",
     "output_type": "stream",
     "text": [
      "Values in ascending order:  [1, 3, 5, 9, 45, 45, 67, 245, 23344]\n",
      "Values in descending order  [23344, 245, 67, 45, 45, 9, 5, 3, 1]\n"
     ]
    }
   ],
   "source": [
    "#The easier way\n",
    "list_of_values = [245, 1, 45, 67, 9, 5, 3, 23344, 45]\n",
    "\n",
    "list_of_values.sort()\n",
    "print(\"Values in ascending order: \", list_of_values)\n",
    "\n",
    "list_of_values.sort(reverse = True)\n",
    "print(\"Values in descending order \", list_of_values)"
   ]
  },
  {
   "cell_type": "markdown",
   "id": "213e1cf7",
   "metadata": {},
   "source": [
    "# Tuples\n",
    "\n",
    "Can have heterogenous values\n",
    "\n",
    "Immutable and iterable"
   ]
  },
  {
   "cell_type": "code",
   "execution_count": 130,
   "id": "545bead6",
   "metadata": {},
   "outputs": [
    {
     "name": "stdout",
     "output_type": "stream",
     "text": [
      "(1, 2, 3, 4, 5)\n",
      "(1, 2, 'You', 'Are')\n",
      "Element in the 1st index:  2\n"
     ]
    }
   ],
   "source": [
    "numeric_tuple = (1, 2, 3, 4, 5)\n",
    "alphanumeric_tuple = (1, 2, \"You\", \"Are\")\n",
    "\n",
    "print(numeric_tuple)\n",
    "print(alphanumeric_tuple)\n",
    "\n",
    "print(\"Element in the 1st index: \", numeric_tuple[1])"
   ]
  },
  {
   "cell_type": "code",
   "execution_count": 137,
   "id": "9a95e7be",
   "metadata": {},
   "outputs": [
    {
     "name": "stdout",
     "output_type": "stream",
     "text": [
      "Count of 2:  3\n",
      "Index of 3:  2\n"
     ]
    }
   ],
   "source": [
    "#The only functions of tuple\n",
    "#To see them, use numeric_tuple. then press the tab button\n",
    "numeric_tuple = (1, 2, 3, 2, 4, 5, 2)\n",
    "print(\"Count of 2: \", numeric_tuple.count(2))\n",
    "print(\"Index of 3: \", numeric_tuple.index(3))"
   ]
  },
  {
   "cell_type": "code",
   "execution_count": 139,
   "id": "553e01f6",
   "metadata": {
    "collapsed": true
   },
   "outputs": [
    {
     "ename": "TypeError",
     "evalue": "'tuple' object does not support item assignment",
     "output_type": "error",
     "traceback": [
      "\u001b[1;31m---------------------------------------------------------------------------\u001b[0m",
      "\u001b[1;31mTypeError\u001b[0m                                 Traceback (most recent call last)",
      "Cell \u001b[1;32mIn[139], line 7\u001b[0m\n\u001b[0;32m      1\u001b[0m \u001b[38;5;66;03m#Immutable\u001b[39;00m\n\u001b[0;32m      2\u001b[0m \u001b[38;5;66;03m#You cannot change the value once assigned\u001b[39;00m\n\u001b[0;32m      3\u001b[0m \u001b[38;5;66;03m#Different from lists\u001b[39;00m\n\u001b[0;32m      4\u001b[0m \n\u001b[0;32m      5\u001b[0m \u001b[38;5;66;03m#Intentional error\u001b[39;00m\n\u001b[0;32m      6\u001b[0m numeric_tuple \u001b[38;5;241m=\u001b[39m (\u001b[38;5;241m1\u001b[39m, \u001b[38;5;241m2\u001b[39m, \u001b[38;5;241m3\u001b[39m, \u001b[38;5;241m2\u001b[39m, \u001b[38;5;241m4\u001b[39m, \u001b[38;5;241m5\u001b[39m, \u001b[38;5;241m2\u001b[39m)\n\u001b[1;32m----> 7\u001b[0m \u001b[43mnumeric_tuple\u001b[49m\u001b[43m[\u001b[49m\u001b[38;5;241;43m8\u001b[39;49m\u001b[43m]\u001b[49m \u001b[38;5;241m=\u001b[39m \u001b[38;5;241m14\u001b[39m\n\u001b[0;32m      9\u001b[0m \u001b[38;5;28mprint\u001b[39m(numeric_tuple)\n",
      "\u001b[1;31mTypeError\u001b[0m: 'tuple' object does not support item assignment"
     ]
    }
   ],
   "source": [
    "#Immutable\n",
    "#You cannot change the value once assigned\n",
    "#Different from lists\n",
    "\n",
    "#Intentional error\n",
    "numeric_tuple = (1, 2, 3, 2, 4, 5, 2)\n",
    "numeric_tuple[8] = 14\n",
    "\n",
    "print(numeric_tuple)"
   ]
  },
  {
   "cell_type": "markdown",
   "id": "8f1e3634",
   "metadata": {},
   "source": [
    "# 4. Dictionary\n",
    "\n",
    "Has a key value pair structure\n",
    "\n",
    "Values are overwritten if there is a new value assigned to it\n",
    "\n",
    "Iterable and mutable"
   ]
  },
  {
   "cell_type": "code",
   "execution_count": 141,
   "id": "fe6a5d23",
   "metadata": {},
   "outputs": [
    {
     "name": "stdout",
     "output_type": "stream",
     "text": [
      "{'Sky': 40, 'Kayla': 70, 'Blue': 80}\n"
     ]
    }
   ],
   "source": [
    "marks = {\n",
    "    \"Sky\":40,\n",
    "    \"Kayla\": 70,\n",
    "    \"Blue\": 80\n",
    "}\n",
    "print(marks)"
   ]
  },
  {
   "cell_type": "code",
   "execution_count": 142,
   "id": "635722d5",
   "metadata": {},
   "outputs": [
    {
     "name": "stdout",
     "output_type": "stream",
     "text": [
      "Marks for student Kayla: 70\n"
     ]
    }
   ],
   "source": [
    "#Iterable\n",
    "print(\"Marks for student {}: {}\" .format(\"Kayla\", marks[\"Kayla\"]))"
   ]
  },
  {
   "cell_type": "code",
   "execution_count": 145,
   "id": "cbc71666",
   "metadata": {},
   "outputs": [
    {
     "name": "stdout",
     "output_type": "stream",
     "text": [
      "{'Sky': 40, 'Kayla': 87, 'Blue': 80}\n",
      "Student names - keys:  dict_keys(['Sky', 'Kayla', 'Blue'])\n",
      "Marks - values:  dict_values([40, 87, 80])\n"
     ]
    }
   ],
   "source": [
    "#Mutable and values are overwritten\n",
    "marks['Kayla'] = 87\n",
    "print(marks)\n",
    "\n",
    "print(\"Student names - keys: \", marks.keys())\n",
    "print(\"Marks - values: \", marks.values())"
   ]
  },
  {
   "cell_type": "code",
   "execution_count": 147,
   "id": "c9b96d1d",
   "metadata": {},
   "outputs": [
    {
     "name": "stdout",
     "output_type": "stream",
     "text": [
      "All the items in the list:  {'Sky': 40, 'Kayla': 87, 'Blue': 80}\n",
      "All the items in the list:  dict_items([('Sky', 40), ('Kayla', 87), ('Blue', 80)])\n"
     ]
    }
   ],
   "source": [
    "print(\"All the items in the list: \", marks)\n",
    "print(\"All the items in the list: \", marks.items())\n"
   ]
  },
  {
   "cell_type": "code",
   "execution_count": 148,
   "id": "3c8d9621",
   "metadata": {
    "collapsed": true
   },
   "outputs": [
    {
     "ename": "ValueError",
     "evalue": "too many values to unpack (expected 2)",
     "output_type": "error",
     "traceback": [
      "\u001b[1;31m---------------------------------------------------------------------------\u001b[0m",
      "\u001b[1;31mValueError\u001b[0m                                Traceback (most recent call last)",
      "Cell \u001b[1;32mIn[148], line 2\u001b[0m\n\u001b[0;32m      1\u001b[0m \u001b[38;5;66;03m#Intentional error\u001b[39;00m\n\u001b[1;32m----> 2\u001b[0m \u001b[38;5;28;01mfor\u001b[39;00m key, values \u001b[38;5;129;01min\u001b[39;00m marks:\n\u001b[0;32m      3\u001b[0m     \u001b[38;5;28mprint\u001b[39m (key, \u001b[38;5;124m'\u001b[39m\u001b[38;5;130;01m\\t\u001b[39;00m\u001b[38;5;124m'\u001b[39m, values)\n",
      "\u001b[1;31mValueError\u001b[0m: too many values to unpack (expected 2)"
     ]
    }
   ],
   "source": [
    "#Intentional error\n",
    "for key, values in marks:\n",
    "    print (key, '\\t', values)"
   ]
  },
  {
   "cell_type": "code",
   "execution_count": 155,
   "id": "c252e5ef",
   "metadata": {},
   "outputs": [
    {
     "name": "stdout",
     "output_type": "stream",
     "text": [
      "Sky \t 40\n",
      "Kayla \t 87\n",
      "Blue \t 80\n"
     ]
    }
   ],
   "source": [
    "#Solution\n",
    "for key, value in marks.items():\n",
    "    print(key, '\\t', value)"
   ]
  },
  {
   "cell_type": "code",
   "execution_count": 156,
   "id": "4dfffe15",
   "metadata": {},
   "outputs": [
    {
     "name": "stdout",
     "output_type": "stream",
     "text": [
      "Kayla\n",
      "Blue\n"
     ]
    }
   ],
   "source": [
    "#To find students with marks more than 40\n",
    "for key, value in marks.items():\n",
    "    if(value> 50):\n",
    "        print(key)"
   ]
  }
 ],
 "metadata": {
  "kernelspec": {
   "display_name": "Python 3 (ipykernel)",
   "language": "python",
   "name": "python3"
  },
  "language_info": {
   "codemirror_mode": {
    "name": "ipython",
    "version": 3
   },
   "file_extension": ".py",
   "mimetype": "text/x-python",
   "name": "python",
   "nbconvert_exporter": "python",
   "pygments_lexer": "ipython3",
   "version": "3.10.3"
  }
 },
 "nbformat": 4,
 "nbformat_minor": 5
}
